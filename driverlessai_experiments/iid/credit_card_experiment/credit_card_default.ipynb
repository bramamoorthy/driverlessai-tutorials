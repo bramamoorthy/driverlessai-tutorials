{
 "cells": [
  {
   "cell_type": "markdown",
   "metadata": {},
   "source": [
    "# Driverless AI: Credit Card Demo\n",
    "\n",
    "This notebook provides an H2OAI Client workflow, of model building and scoring, that parallels the Driverless AI workflow. \n",
    "\n",
    "**Notes**:\n",
    "\n",
    "* This is an early release of the Driverless AI Python client.\n",
    "* This notebook works specifically for Driverless AI version 1.8.1.\n",
    "* Python 3.6 is the only supported version.\n",
    "* You must install the `h2oai_client` wheel to your local Python. This is available from the RESOURCES link in the top menu of the UI.\n",
    "\n",
    "![py-client](images/py_client_link.png)"
   ]
  },
  {
   "cell_type": "markdown",
   "metadata": {},
   "source": [
    "## Workflow Steps\n",
    "\n",
    "**Build an Experiment with Python API:**\n",
    "\n",
    "1. Sign in\n",
    "2. Import train & test set/new data\n",
    "3. Specify experiment parameters\n",
    "4. Launch Experiement\n",
    "5. Examine Experiment\n",
    "6. Download Predictions\n",
    "    \n",
    "**Build an Experiment in Web UI and Access Through Python:**\n",
    "\n",
    "1. Get pointer to experiment\n",
    "    \n",
    "**Score on New Data:**\n",
    "\n",
    "1. Score on new data with H2OAI model\n",
    "\n",
    "**Model Diagnostics on New Data:**\n",
    "\n",
    "1. Run model diagnostincs on new data with H2OAI model\n",
    "\n",
    "**Run Model Interpretation**\n",
    "\n",
    "1. Run model interpretation on the raw features\n",
    "2. Run Model Interpretation on External Model Predictions\n",
    "\n",
    "**Build Scoring Pipelines**\n",
    "\n",
    "1. Build Python Scoring Pipeline\n",
    "2. Build MOJO Scoring Pipeline"
   ]
  },
  {
   "cell_type": "markdown",
   "metadata": {},
   "source": [
    "## Build an Experiment with Python API\n",
    "\n",
    "### 1. Sign In\n",
    "\n",
    "Import the required modules and log in.\n",
    "\n",
    "Pass in your credentials through the Client class which creates an authentication token to send to the Driverless AI Server. In plain English: to sign into the Driverless AI web page (which then sends requests to the Driverless Server), instantiate the Client class with your Driverless AI address and login credentials."
   ]
  },
  {
   "cell_type": "code",
   "execution_count": 1,
   "metadata": {},
   "outputs": [],
   "source": [
    "from h2oai_client import Client\n",
    "import matplotlib.pyplot as plt\n",
    "import pandas as pd"
   ]
  },
  {
   "cell_type": "code",
   "execution_count": 2,
   "metadata": {},
   "outputs": [],
   "source": [
    "address = 'http://ip_where_driverless_is_running:12345'\n",
    "username = 'username'\n",
    "password = 'password'\n",
    "h2oai = Client(address = address, username = username, password = password)\n",
    "# make sure to use the same user name and password when signing in through the GUI"
   ]
  },
  {
   "cell_type": "markdown",
   "metadata": {
    "collapsed": true
   },
   "source": [
    "#### Equivalent Steps in Driverless: Signing In\n",
    "![Equivalent Steps in Driverless: Signing In](images/sign_in_home_page_0.png)\n",
    "\n",
    "![Equivalent Steps in Driverless: Signing In](images/skip_sign_in_home_page_1.png)"
   ]
  },
  {
   "cell_type": "markdown",
   "metadata": {},
   "source": [
    "### 2. Upload Datasets\n",
    "\n",
    "Upload training and testing datasets from the Driverless AI **/data** folder.\n",
    "\n",
    "You can provide a training, validation, and testing dataset for an experiment.  The validation and testing dataset are optional.  In this example, we will provide only training and testing."
   ]
  },
  {
   "cell_type": "code",
   "execution_count": 3,
   "metadata": {},
   "outputs": [],
   "source": [
    "train_path = '/data/Kaggle/CreditCard/CreditCard-train.csv'\n",
    "test_path = '/data/Kaggle/CreditCard/CreditCard-test.csv'\n",
    "\n",
    "train = h2oai.create_dataset_sync(train_path)\n",
    "test = h2oai.create_dataset_sync(test_path)"
   ]
  },
  {
   "cell_type": "markdown",
   "metadata": {},
   "source": [
    "#### Equivalent Steps in Driverless: Uploading Train & Test CSV Files\n",
    "![Equivalent Steps in Driverless: Upload Train & Test CSV Files](images/import_data_sets_creditcard.png)"
   ]
  },
  {
   "cell_type": "markdown",
   "metadata": {
    "collapsed": true
   },
   "source": [
    "### 3. Set Experiment Parameters\n",
    "\n",
    "We will now set the parameters of our experiment.  Some of the parameters include:\n",
    "\n",
    "* Target Column: The column we are trying to predict.\n",
    "* Dropped Columns: The columns we do not want to use as predictors such as ID columns, columns with data leakage, etc.\n",
    "* Weight Column: The column that indicates the per row observation weights. If `None`, each row will have an observation weight of 1.\n",
    "* Fold Column: The column that indicates the fold. If `None`, the folds will be determined by Driverless AI.\n",
    "* Is Time Series: Whether or not the experiment is a time-series use case.\n",
    "\n",
    "For information on the experiment settings, refer to the [Experiment Settings](http://docs.h2o.ai/driverless-ai/latest-stable/docs/userguide/running-experiment.html#experiment-settings).\n",
    "\n",
    "For this example, we will be predicting **`default payment next month`**.  The parameters that control the experiment process are: `accuracy`, `time`, and `interpretability`.  We can use the `get_experiment_preview_sync` function to get a sense of what will happen during the experiment.  \n",
    "\n",
    "We will start out by seeing what the experiment will look like with `accuracy`, `time`, and `interpretability` all set to 5."
   ]
  },
  {
   "cell_type": "code",
   "execution_count": 4,
   "metadata": {
    "scrolled": true
   },
   "outputs": [
    {
     "data": {
      "text/plain": [
       "['ACCURACY [5/10]:',\n",
       " '- Training data size: *23,999 rows, 25 cols*',\n",
       " '- Feature evolution: *[LightGBM, XGBoostGBM]*, *1/3 validation split*',\n",
       " '- Final pipeline: *Ensemble (4 models), 4-fold CV*',\n",
       " '',\n",
       " 'TIME [5/10]:',\n",
       " '- Feature evolution: *4 individuals*, up to *66 iterations*',\n",
       " '- Early stopping: After *10* iterations of no improvement',\n",
       " '',\n",
       " 'INTERPRETABILITY [5/10]:',\n",
       " '- Feature pre-pruning strategy: None',\n",
       " '- Monotonicity constraints: disabled',\n",
       " '- Feature engineering search space: [CVCatNumEncode, CVTargetEncode, ClusterDist, ClusterId, ClusterTE, Frequent, Interactions, NumCatTE, NumToCatTE, NumToCatWoE, Original, TruncSVDNum, WeightOfEvidence]',\n",
       " '',\n",
       " '[LightGBM, XGBoostGBM] models to train:',\n",
       " '- Model and feature tuning: *16*',\n",
       " '- Feature evolution: *104*',\n",
       " '- Final pipeline: *4*',\n",
       " '',\n",
       " 'Estimated runtime: *minutes*',\n",
       " 'Auto-click Finish if not done in: *1 day*']"
      ]
     },
     "execution_count": 4,
     "metadata": {},
     "output_type": "execute_result"
    }
   ],
   "source": [
    "target=\"default payment next month\"\n",
    "exp_preview = h2oai.get_experiment_preview_sync(dataset_key= train.key\n",
    "                                                , validset_key=''\n",
    "                                                , classification=True\n",
    "                                                , dropped_cols=[]\n",
    "                                                , target_col=target\n",
    "                                                , is_time_series=False\n",
    "                                                , enable_gpus=False\n",
    "                                                , accuracy=5, time=5, interpretability=5\n",
    "                                                , reproducible=True\n",
    "                                                , resumed_experiment_id=''\n",
    "                                                , time_col=''\n",
    "                                                , config_overrides=None)\n",
    "exp_preview"
   ]
  },
  {
   "cell_type": "markdown",
   "metadata": {},
   "source": [
    "With these settings, the Driverless AI experiment will train about 124 models: \n",
    "* 16 for model and feature tuning\n",
    "* 104 for feature evolution\n",
    "* 4 for the final pipeline\n",
    "\n",
    "When we start the experiment, we can either: \n",
    "\n",
    "* specify parameters\n",
    "* use Driverless AI to suggest parameters\n",
    "\n",
    "Driverless AI can suggest the parameters based on the dataset and target column.  Below we will use the **`get_experiment_tuning_suggestion`** to see what settings Driverless AI suggests."
   ]
  },
  {
   "cell_type": "code",
   "execution_count": 6,
   "metadata": {},
   "outputs": [
    {
     "data": {
      "text/plain": [
       "{'dataset': {'key': 'bf95c05e-04aa-11ea-9b08-0242ac110002',\n",
       "  'display_name': ''},\n",
       " 'resumed_model': {'key': '', 'display_name': ''},\n",
       " 'target_col': 'default payment next month',\n",
       " 'weight_col': '',\n",
       " 'fold_col': '',\n",
       " 'orig_time_col': '',\n",
       " 'time_col': '',\n",
       " 'is_classification': True,\n",
       " 'cols_to_drop': [],\n",
       " 'validset': {'key': '', 'display_name': ''},\n",
       " 'testset': {'key': '', 'display_name': ''},\n",
       " 'enable_gpus': True,\n",
       " 'seed': False,\n",
       " 'accuracy': 5,\n",
       " 'time': 4,\n",
       " 'interpretability': 6,\n",
       " 'score_f_name': 'AUC',\n",
       " 'time_groups_columns': [],\n",
       " 'unavailable_columns_at_prediction_time': [],\n",
       " 'time_period_in_seconds': None,\n",
       " 'num_prediction_periods': None,\n",
       " 'num_gap_periods': None,\n",
       " 'is_timeseries': False,\n",
       " 'config_overrides': None}"
      ]
     },
     "execution_count": 6,
     "metadata": {},
     "output_type": "execute_result"
    }
   ],
   "source": [
    "# let Driverless suggest parameters for experiment\n",
    "params = h2oai.get_experiment_tuning_suggestion(dataset_key = train.key, target_col = target, \n",
    "                                                is_classification = True, is_time_series = False,\n",
    "                                                cols_to_drop=[], config_overrides = None)\n",
    "\n",
    "params.dump()"
   ]
  },
  {
   "cell_type": "markdown",
   "metadata": {},
   "source": [
    "Driverless AI has found that the best parameters are to set **`accuracy = 5`**, **`time = 4`**, **`interpretability = 6`**. It has selected **`AUC`** as the scorer (this is the default scorer for binomial problems).  "
   ]
  },
  {
   "cell_type": "markdown",
   "metadata": {},
   "source": [
    "#### Equivalent Steps in Driverless: Set the Knobs, Configuration & Launch\n",
    "![Equivalent Steps in Driverless: Set the Knobs](images/set_parameters_creditcard.png)"
   ]
  },
  {
   "cell_type": "markdown",
   "metadata": {},
   "source": [
    "### 4. Launch Experiment: Feature Engineering + Final Model Training\n",
    "\n",
    "Launch the experiment using the parameters that Driverless AI suggested along with the testset, scorer, and seed that were added. We can launch the experiment with the suggested parameters or create our own."
   ]
  },
  {
   "cell_type": "code",
   "execution_count": 13,
   "metadata": {},
   "outputs": [],
   "source": [
    "experiment = h2oai.start_experiment_sync(dataset_key=train.key,\n",
    "                                         testset_key = test.key,\n",
    "                                         target_col=target,\n",
    "                                         is_classification=True,\n",
    "                                         accuracy=5,\n",
    "                                         time=4,\n",
    "                                         interpretability=6,\n",
    "                                         scorer=\"AUC\",\n",
    "                                         enable_gpus=True,\n",
    "                                         seed=1234,\n",
    "                                         cols_to_drop=['ID'])"
   ]
  },
  {
   "cell_type": "markdown",
   "metadata": {},
   "source": [
    "#### Equivalent Steps in Driverless: Launch Experiment\n",
    "\n",
    "![Equivalent Steps in Driverless: Launch Your Experiment](images/exp_running_creditcard.png)\n",
    "\n",
    "![Equivalent Steps in Driverless: Launch Your Experiment](images/experiment_list_running.png)"
   ]
  },
  {
   "cell_type": "markdown",
   "metadata": {},
   "source": [
    "### 5. Examine Experiment\n",
    "\n",
    "View the final model score for the validation and test datasets. When feature engineering is complete, an ensemble model can be built depending on the accuracy setting. The experiment object also contains the score on the validation and test data for this ensemble model.  In this case, the validation score is the score on the training cross-validation predictions."
   ]
  },
  {
   "cell_type": "code",
   "execution_count": 9,
   "metadata": {},
   "outputs": [
    {
     "name": "stdout",
     "output_type": "stream",
     "text": [
      "Final Model Score on Validation Data: 0.778\n",
      "Final Model Score on Test Data: 0.799\n"
     ]
    }
   ],
   "source": [
    "print(\"Final Model Score on Validation Data: \" + str(round(experiment.valid_score, 3)))\n",
    "print(\"Final Model Score on Test Data: \" + str(round(experiment.test_score, 3)))"
   ]
  },
  {
   "cell_type": "markdown",
   "metadata": {},
   "source": [
    "The experiment object also contains the scores calculated for each iteration on bootstrapped samples on the validation data.  In the iteration graph in the UI, we can see the mean performance for the best model (yellow dot) and +/- 1 standard deviation of the best model performance (yellow bar).\n",
    "\n",
    "This information is saved in the experiment object."
   ]
  },
  {
   "cell_type": "code",
   "execution_count": 10,
   "metadata": {},
   "outputs": [
    {
     "data": {
      "image/png": "[encoded data removed]",
      "text/plain": [
       "<Figure size 432x288 with 1 Axes>"
      ]
     },
     "metadata": {
      "needs_background": "light"
     },
     "output_type": "display_data"
    }
   ],
   "source": [
    "# Add scores from experiment iterations\n",
    "iteration_data = h2oai.list_model_iteration_data(experiment.key, 0, len(experiment.iteration_data))\n",
    "iterations = list(map(lambda iteration: iteration.iteration, iteration_data))\n",
    "scores_mean = list(map(lambda iteration: iteration.score_mean, iteration_data))\n",
    "scores_sd = list(map(lambda iteration: iteration.score_sd, iteration_data))\n",
    "\n",
    "# Add score from final ensemble\n",
    "iterations = iterations + [max(iterations) + 1]\n",
    "scores_mean = scores_mean + [experiment.valid_score]\n",
    "scores_sd = scores_sd + [experiment.valid_score_sd]\n",
    "\n",
    "plt.figure()\n",
    "plt.errorbar(iterations, scores_mean, yerr=scores_sd, color = \"y\", \n",
    "             ecolor='yellow', fmt = '--o', elinewidth = 4, alpha = 0.5)\n",
    "plt.xlabel(\"Iteration\")\n",
    "plt.ylabel(\"AUC\")\n",
    "plt.ylim([0.65, 0.82])\n",
    "plt.show();"
   ]
  },
  {
   "cell_type": "markdown",
   "metadata": {},
   "source": [
    "#### Equivalent Steps in Driverless: View Results\n",
    "![Equivalent Steps in Driverless: View Results](images/experiment_complete_creditcard.png)"
   ]
  },
  {
   "cell_type": "markdown",
   "metadata": {},
   "source": [
    "### 6. Download Results\n",
    "\n",
    "Once an experiment is complete, we can see that the UI presents us options of downloading the: \n",
    "\n",
    "* predictions \n",
    "    * on the (holdout) train data\n",
    "    * on the test data\n",
    "* experiment summary - summary of the experiment including feature importance\n",
    "\n",
    "We will show an example of downloading the test predictions below.  Note that equivalent commands can also be run for downloading the train (holdout) predictions. "
   ]
  },
  {
   "cell_type": "code",
   "execution_count": 11,
   "metadata": {},
   "outputs": [
    {
     "data": {
      "text/plain": [
       "'./test_preds.csv'"
      ]
     },
     "execution_count": 11,
     "metadata": {},
     "output_type": "execute_result"
    }
   ],
   "source": [
    "h2oai.download(src_path=experiment.test_predictions_path, dest_dir=\".\")"
   ]
  },
  {
   "cell_type": "code",
   "execution_count": 12,
   "metadata": {},
   "outputs": [
    {
     "data": {
      "text/html": [
       "<div>\n",
       "<style scoped>\n",
       "    .dataframe tbody tr th:only-of-type {\n",
       "        vertical-align: middle;\n",
       "    }\n",
       "\n",
       "    .dataframe tbody tr th {\n",
       "        vertical-align: top;\n",
       "    }\n",
       "\n",
       "    .dataframe thead th {\n",
       "        text-align: right;\n",
       "    }\n",
       "</style>\n",
       "<table border=\"1\" class=\"dataframe\">\n",
       "  <thead>\n",
       "    <tr style=\"text-align: right;\">\n",
       "      <th></th>\n",
       "      <th>default payment next month.0</th>\n",
       "      <th>default payment next month.1</th>\n",
       "    </tr>\n",
       "  </thead>\n",
       "  <tbody>\n",
       "    <tr>\n",
       "      <th>0</th>\n",
       "      <td>0.291545</td>\n",
       "      <td>0.708455</td>\n",
       "    </tr>\n",
       "    <tr>\n",
       "      <th>1</th>\n",
       "      <td>0.860811</td>\n",
       "      <td>0.139189</td>\n",
       "    </tr>\n",
       "    <tr>\n",
       "      <th>2</th>\n",
       "      <td>0.938934</td>\n",
       "      <td>0.061066</td>\n",
       "    </tr>\n",
       "    <tr>\n",
       "      <th>3</th>\n",
       "      <td>0.568647</td>\n",
       "      <td>0.431353</td>\n",
       "    </tr>\n",
       "    <tr>\n",
       "      <th>4</th>\n",
       "      <td>0.872842</td>\n",
       "      <td>0.127158</td>\n",
       "    </tr>\n",
       "  </tbody>\n",
       "</table>\n",
       "</div>"
      ],
      "text/plain": [
       "   default payment next month.0  default payment next month.1\n",
       "0                      0.291545                      0.708455\n",
       "1                      0.860811                      0.139189\n",
       "2                      0.938934                      0.061066\n",
       "3                      0.568647                      0.431353\n",
       "4                      0.872842                      0.127158"
      ]
     },
     "execution_count": 12,
     "metadata": {},
     "output_type": "execute_result"
    }
   ],
   "source": [
    "test_preds = pd.read_csv(\"./test_preds.csv\")\n",
    "test_preds.head()"
   ]
  },
  {
   "cell_type": "markdown",
   "metadata": {},
   "source": [
    "## Build an Experiment in Web UI and Access Through Python\n",
    "\n",
    "It is also possible to use the Python API to examine an experiment that was started through the Web UI using the experiment key.\n",
    "\n",
    "![Experiments List](images/experiment_list_complete.png)\n",
    "\n",
    "### 1. Get pointer to experiment\n",
    "\n",
    "You can get a pointer to the experiment by referencing the experiment key in the Web UI."
   ]
  },
  {
   "cell_type": "code",
   "execution_count": 13,
   "metadata": {},
   "outputs": [
    {
     "data": {
      "text/plain": [
       "['f4736152-024b-11ea-b1a2-0242ac110002',\n",
       " '626ec46e-fbe7-11e9-9dcd-0242ac110002']"
      ]
     },
     "execution_count": 13,
     "metadata": {},
     "output_type": "execute_result"
    }
   ],
   "source": [
    "# Get list of experiments\n",
    "experiment_list = list(map(lambda x: x.key, h2oai.list_models(offset=0, limit=100).models))\n",
    "experiment_list"
   ]
  },
  {
   "cell_type": "code",
   "execution_count": 14,
   "metadata": {},
   "outputs": [],
   "source": [
    "# Get pointer to experiment\n",
    "experiment = h2oai.get_model_job(experiment_list[0]).entity"
   ]
  },
  {
   "cell_type": "markdown",
   "metadata": {},
   "source": [
    "## Score on New Data\n",
    "\n",
    "You can use the Python API to score on new data. This is equivalent to the **SCORE ON ANOTHER DATASET** button in the Web UI. The example below scores on the test data and then downloads the predictions.\n",
    "\n",
    "Pass in any dataset that has the same columns as the original training set. If you passed a test set during the H2OAI model building step, the predictions already exist.\n",
    "\n",
    "### 1. Score Using the H2OAI Model\n",
    "\n",
    "The following shows the predicted probability of default for each record in the test.  "
   ]
  },
  {
   "cell_type": "code",
   "execution_count": 15,
   "metadata": {},
   "outputs": [
    {
     "data": {
      "text/html": [
       "<div>\n",
       "<style scoped>\n",
       "    .dataframe tbody tr th:only-of-type {\n",
       "        vertical-align: middle;\n",
       "    }\n",
       "\n",
       "    .dataframe tbody tr th {\n",
       "        vertical-align: top;\n",
       "    }\n",
       "\n",
       "    .dataframe thead th {\n",
       "        text-align: right;\n",
       "    }\n",
       "</style>\n",
       "<table border=\"1\" class=\"dataframe\">\n",
       "  <thead>\n",
       "    <tr style=\"text-align: right;\">\n",
       "      <th></th>\n",
       "      <th>default payment next month.0</th>\n",
       "      <th>default payment next month.1</th>\n",
       "    </tr>\n",
       "  </thead>\n",
       "  <tbody>\n",
       "    <tr>\n",
       "      <th>0</th>\n",
       "      <td>0.291545</td>\n",
       "      <td>0.708455</td>\n",
       "    </tr>\n",
       "    <tr>\n",
       "      <th>1</th>\n",
       "      <td>0.860811</td>\n",
       "      <td>0.139189</td>\n",
       "    </tr>\n",
       "    <tr>\n",
       "      <th>2</th>\n",
       "      <td>0.938934</td>\n",
       "      <td>0.061066</td>\n",
       "    </tr>\n",
       "    <tr>\n",
       "      <th>3</th>\n",
       "      <td>0.568647</td>\n",
       "      <td>0.431353</td>\n",
       "    </tr>\n",
       "    <tr>\n",
       "      <th>4</th>\n",
       "      <td>0.872842</td>\n",
       "      <td>0.127158</td>\n",
       "    </tr>\n",
       "  </tbody>\n",
       "</table>\n",
       "</div>"
      ],
      "text/plain": [
       "   default payment next month.0  default payment next month.1\n",
       "0                      0.291545                      0.708455\n",
       "1                      0.860811                      0.139189\n",
       "2                      0.938934                      0.061066\n",
       "3                      0.568647                      0.431353\n",
       "4                      0.872842                      0.127158"
      ]
     },
     "execution_count": 15,
     "metadata": {},
     "output_type": "execute_result"
    }
   ],
   "source": [
    "prediction = h2oai.make_prediction_sync(experiment.key, test.key, output_margin = False, pred_contribs = False)\n",
    "pred_path = h2oai.download(prediction.predictions_csv_path, '.')\n",
    "pred_table = pd.read_csv(pred_path)\n",
    "pred_table.head()"
   ]
  },
  {
   "cell_type": "markdown",
   "metadata": {},
   "source": [
    "We can also get the contribution each feature had to the final prediction by setting `pred_contribs = True`.  This will give us an idea of how each feature effects the predictions. "
   ]
  },
  {
   "cell_type": "code",
   "execution_count": 16,
   "metadata": {
    "scrolled": true
   },
   "outputs": [
    {
     "data": {
      "text/html": [
       "<div>\n",
       "<style scoped>\n",
       "    .dataframe tbody tr th:only-of-type {\n",
       "        vertical-align: middle;\n",
       "    }\n",
       "\n",
       "    .dataframe tbody tr th {\n",
       "        vertical-align: top;\n",
       "    }\n",
       "\n",
       "    .dataframe thead th {\n",
       "        text-align: right;\n",
       "    }\n",
       "</style>\n",
       "<table border=\"1\" class=\"dataframe\">\n",
       "  <thead>\n",
       "    <tr style=\"text-align: right;\">\n",
       "      <th></th>\n",
       "      <th>contrib_0_AGE</th>\n",
       "      <th>contrib_1_BILL_AMT1</th>\n",
       "      <th>contrib_10_PAY_0</th>\n",
       "      <th>contrib_11_PAY_2</th>\n",
       "      <th>contrib_12_PAY_3</th>\n",
       "      <th>contrib_13_PAY_4</th>\n",
       "      <th>contrib_14_PAY_5</th>\n",
       "      <th>contrib_15_PAY_6</th>\n",
       "      <th>contrib_16_PAY_AMT1</th>\n",
       "      <th>contrib_17_PAY_AMT2</th>\n",
       "      <th>...</th>\n",
       "      <th>contrib_58_ClusterTE:ClusterID50:PAY_0.0</th>\n",
       "      <th>contrib_59_CVCatNumEnc:PAY_0:PAY_3:BILL_AMT1.min</th>\n",
       "      <th>contrib_6_BILL_AMT6</th>\n",
       "      <th>contrib_61_Freq:PAY_3</th>\n",
       "      <th>contrib_7_EDUCATION</th>\n",
       "      <th>contrib_77_NumToCatTE:PAY_5:PAY_AMT3.0</th>\n",
       "      <th>contrib_78_NumToCatWoE:BILL_AMT4.0</th>\n",
       "      <th>contrib_8_LIMIT_BAL</th>\n",
       "      <th>contrib_9_MARRIAGE</th>\n",
       "      <th>contrib_bias</th>\n",
       "    </tr>\n",
       "  </thead>\n",
       "  <tbody>\n",
       "    <tr>\n",
       "      <th>0</th>\n",
       "      <td>0.019139</td>\n",
       "      <td>-0.039144</td>\n",
       "      <td>0.049275</td>\n",
       "      <td>0.019180</td>\n",
       "      <td>0.001235</td>\n",
       "      <td>-0.004867</td>\n",
       "      <td>-0.006530</td>\n",
       "      <td>-0.020373</td>\n",
       "      <td>0.001255</td>\n",
       "      <td>-0.017858</td>\n",
       "      <td>...</td>\n",
       "      <td>0.036764</td>\n",
       "      <td>0.010279</td>\n",
       "      <td>-0.002872</td>\n",
       "      <td>-0.004561</td>\n",
       "      <td>0.021077</td>\n",
       "      <td>-0.026667</td>\n",
       "      <td>0.009677</td>\n",
       "      <td>0.006128</td>\n",
       "      <td>-0.028483</td>\n",
       "      <td>0.0</td>\n",
       "    </tr>\n",
       "    <tr>\n",
       "      <th>1</th>\n",
       "      <td>-0.041853</td>\n",
       "      <td>-0.116609</td>\n",
       "      <td>-0.000935</td>\n",
       "      <td>-0.004850</td>\n",
       "      <td>-0.003236</td>\n",
       "      <td>-0.032782</td>\n",
       "      <td>-0.032348</td>\n",
       "      <td>-0.037329</td>\n",
       "      <td>-0.035730</td>\n",
       "      <td>-0.080762</td>\n",
       "      <td>...</td>\n",
       "      <td>-0.006145</td>\n",
       "      <td>-0.019153</td>\n",
       "      <td>-0.022238</td>\n",
       "      <td>-0.012299</td>\n",
       "      <td>0.006005</td>\n",
       "      <td>-0.114808</td>\n",
       "      <td>-0.036886</td>\n",
       "      <td>-0.020870</td>\n",
       "      <td>-0.041297</td>\n",
       "      <td>0.0</td>\n",
       "    </tr>\n",
       "    <tr>\n",
       "      <th>2</th>\n",
       "      <td>-0.035262</td>\n",
       "      <td>-0.190733</td>\n",
       "      <td>-0.007690</td>\n",
       "      <td>-0.013159</td>\n",
       "      <td>-0.007680</td>\n",
       "      <td>-0.032944</td>\n",
       "      <td>-0.026219</td>\n",
       "      <td>-0.049200</td>\n",
       "      <td>-0.051160</td>\n",
       "      <td>-0.153064</td>\n",
       "      <td>...</td>\n",
       "      <td>-0.024048</td>\n",
       "      <td>-0.025188</td>\n",
       "      <td>-0.056431</td>\n",
       "      <td>-0.014225</td>\n",
       "      <td>-0.002272</td>\n",
       "      <td>-0.131326</td>\n",
       "      <td>-0.028259</td>\n",
       "      <td>-0.342303</td>\n",
       "      <td>-0.034991</td>\n",
       "      <td>0.0</td>\n",
       "    </tr>\n",
       "    <tr>\n",
       "      <th>3</th>\n",
       "      <td>-0.023848</td>\n",
       "      <td>-0.106058</td>\n",
       "      <td>0.036739</td>\n",
       "      <td>0.006269</td>\n",
       "      <td>0.012376</td>\n",
       "      <td>0.009016</td>\n",
       "      <td>0.013972</td>\n",
       "      <td>0.029292</td>\n",
       "      <td>0.001649</td>\n",
       "      <td>-0.008562</td>\n",
       "      <td>...</td>\n",
       "      <td>0.009925</td>\n",
       "      <td>0.009381</td>\n",
       "      <td>0.006761</td>\n",
       "      <td>-0.004459</td>\n",
       "      <td>-0.048545</td>\n",
       "      <td>0.051061</td>\n",
       "      <td>-0.023183</td>\n",
       "      <td>0.009213</td>\n",
       "      <td>-0.019633</td>\n",
       "      <td>0.0</td>\n",
       "    </tr>\n",
       "    <tr>\n",
       "      <th>4</th>\n",
       "      <td>-0.046134</td>\n",
       "      <td>-0.185631</td>\n",
       "      <td>0.000299</td>\n",
       "      <td>-0.004414</td>\n",
       "      <td>-0.015058</td>\n",
       "      <td>-0.022251</td>\n",
       "      <td>-0.022706</td>\n",
       "      <td>-0.023290</td>\n",
       "      <td>-0.021623</td>\n",
       "      <td>-0.013489</td>\n",
       "      <td>...</td>\n",
       "      <td>-0.012287</td>\n",
       "      <td>-0.011608</td>\n",
       "      <td>-0.067383</td>\n",
       "      <td>-0.010659</td>\n",
       "      <td>-0.011432</td>\n",
       "      <td>-0.087330</td>\n",
       "      <td>-0.018817</td>\n",
       "      <td>-0.113735</td>\n",
       "      <td>-0.030218</td>\n",
       "      <td>0.0</td>\n",
       "    </tr>\n",
       "  </tbody>\n",
       "</table>\n",
       "<p>5 rows × 48 columns</p>\n",
       "</div>"
      ],
      "text/plain": [
       "   contrib_0_AGE  contrib_1_BILL_AMT1  contrib_10_PAY_0  contrib_11_PAY_2  \\\n",
       "0       0.019139            -0.039144          0.049275          0.019180   \n",
       "1      -0.041853            -0.116609         -0.000935         -0.004850   \n",
       "2      -0.035262            -0.190733         -0.007690         -0.013159   \n",
       "3      -0.023848            -0.106058          0.036739          0.006269   \n",
       "4      -0.046134            -0.185631          0.000299         -0.004414   \n",
       "\n",
       "   contrib_12_PAY_3  contrib_13_PAY_4  contrib_14_PAY_5  contrib_15_PAY_6  \\\n",
       "0          0.001235         -0.004867         -0.006530         -0.020373   \n",
       "1         -0.003236         -0.032782         -0.032348         -0.037329   \n",
       "2         -0.007680         -0.032944         -0.026219         -0.049200   \n",
       "3          0.012376          0.009016          0.013972          0.029292   \n",
       "4         -0.015058         -0.022251         -0.022706         -0.023290   \n",
       "\n",
       "   contrib_16_PAY_AMT1  contrib_17_PAY_AMT2      ...       \\\n",
       "0             0.001255            -0.017858      ...        \n",
       "1            -0.035730            -0.080762      ...        \n",
       "2            -0.051160            -0.153064      ...        \n",
       "3             0.001649            -0.008562      ...        \n",
       "4            -0.021623            -0.013489      ...        \n",
       "\n",
       "   contrib_58_ClusterTE:ClusterID50:PAY_0.0  \\\n",
       "0                                  0.036764   \n",
       "1                                 -0.006145   \n",
       "2                                 -0.024048   \n",
       "3                                  0.009925   \n",
       "4                                 -0.012287   \n",
       "\n",
       "   contrib_59_CVCatNumEnc:PAY_0:PAY_3:BILL_AMT1.min  contrib_6_BILL_AMT6  \\\n",
       "0                                          0.010279            -0.002872   \n",
       "1                                         -0.019153            -0.022238   \n",
       "2                                         -0.025188            -0.056431   \n",
       "3                                          0.009381             0.006761   \n",
       "4                                         -0.011608            -0.067383   \n",
       "\n",
       "   contrib_61_Freq:PAY_3  contrib_7_EDUCATION  \\\n",
       "0              -0.004561             0.021077   \n",
       "1              -0.012299             0.006005   \n",
       "2              -0.014225            -0.002272   \n",
       "3              -0.004459            -0.048545   \n",
       "4              -0.010659            -0.011432   \n",
       "\n",
       "   contrib_77_NumToCatTE:PAY_5:PAY_AMT3.0  contrib_78_NumToCatWoE:BILL_AMT4.0  \\\n",
       "0                               -0.026667                            0.009677   \n",
       "1                               -0.114808                           -0.036886   \n",
       "2                               -0.131326                           -0.028259   \n",
       "3                                0.051061                           -0.023183   \n",
       "4                               -0.087330                           -0.018817   \n",
       "\n",
       "   contrib_8_LIMIT_BAL  contrib_9_MARRIAGE  contrib_bias  \n",
       "0             0.006128           -0.028483           0.0  \n",
       "1            -0.020870           -0.041297           0.0  \n",
       "2            -0.342303           -0.034991           0.0  \n",
       "3             0.009213           -0.019633           0.0  \n",
       "4            -0.113735           -0.030218           0.0  \n",
       "\n",
       "[5 rows x 48 columns]"
      ]
     },
     "execution_count": 16,
     "metadata": {},
     "output_type": "execute_result"
    }
   ],
   "source": [
    "prediction_contributions = h2oai.make_prediction_sync(experiment.key, test.key, \n",
    "                                                      output_margin = False, pred_contribs = True)\n",
    "pred_contributions_path = h2oai.download(prediction_contributions.predictions_csv_path, '.')\n",
    "pred_contributions_table = pd.read_csv(pred_contributions_path)\n",
    "pred_contributions_table.head()"
   ]
  },
  {
   "cell_type": "markdown",
   "metadata": {},
   "source": [
    "We will examine the contributions for our first record more closely."
   ]
  },
  {
   "cell_type": "code",
   "execution_count": 17,
   "metadata": {},
   "outputs": [
    {
     "data": {
      "text/html": [
       "<div>\n",
       "<style scoped>\n",
       "    .dataframe tbody tr th:only-of-type {\n",
       "        vertical-align: middle;\n",
       "    }\n",
       "\n",
       "    .dataframe tbody tr th {\n",
       "        vertical-align: top;\n",
       "    }\n",
       "\n",
       "    .dataframe thead th {\n",
       "        text-align: right;\n",
       "    }\n",
       "</style>\n",
       "<table border=\"1\" class=\"dataframe\">\n",
       "  <thead>\n",
       "    <tr style=\"text-align: right;\">\n",
       "      <th></th>\n",
       "      <th>contribution</th>\n",
       "    </tr>\n",
       "  </thead>\n",
       "  <tbody>\n",
       "    <tr>\n",
       "      <th>contrib_55_WoE:EDUCATION:PAY_0:PAY_2.0</th>\n",
       "      <td>0.313223</td>\n",
       "    </tr>\n",
       "    <tr>\n",
       "      <th>contrib_48_WoE:PAY_0:PAY_3.0</th>\n",
       "      <td>0.287293</td>\n",
       "    </tr>\n",
       "    <tr>\n",
       "      <th>contrib_46_CVCatNumEnc:PAY_0:PAY_2:PAY_3:PAY_6.mean</th>\n",
       "      <td>0.093964</td>\n",
       "    </tr>\n",
       "    <tr>\n",
       "      <th>contrib_37_WoE:PAY_0.0</th>\n",
       "      <td>0.054508</td>\n",
       "    </tr>\n",
       "    <tr>\n",
       "      <th>contrib_10_PAY_0</th>\n",
       "      <td>0.049275</td>\n",
       "    </tr>\n",
       "  </tbody>\n",
       "</table>\n",
       "</div>"
      ],
      "text/plain": [
       "                                                    contribution\n",
       "contrib_55_WoE:EDUCATION:PAY_0:PAY_2.0                  0.313223\n",
       "contrib_48_WoE:PAY_0:PAY_3.0                            0.287293\n",
       "contrib_46_CVCatNumEnc:PAY_0:PAY_2:PAY_3:PAY_6....      0.093964\n",
       "contrib_37_WoE:PAY_0.0                                  0.054508\n",
       "contrib_10_PAY_0                                        0.049275"
      ]
     },
     "execution_count": 17,
     "metadata": {},
     "output_type": "execute_result"
    }
   ],
   "source": [
    "contrib = pd.DataFrame(pred_contributions_table.iloc[0][1:])\n",
    "contrib.columns = [\"contribution\"]\n",
    "contrib[\"abs_contribution\"] = contrib.contribution.abs()\n",
    "contrib.sort_values(by=\"abs_contribution\", ascending=False)[[\"contribution\"]].head()"
   ]
  },
  {
   "cell_type": "markdown",
   "metadata": {},
   "source": [
    "The clusters from this customer's: `PAY_0`, `PAY_2`, and `PAY_3` had the greatest impact on their prediction.  Since the contribution is positive, we know that it increases the probability that they will default."
   ]
  },
  {
   "cell_type": "markdown",
   "metadata": {},
   "source": [
    "## Model Diagnostics on New Data\n",
    "\n",
    "You can use the Python API to also perform model diagnostics on new data. This is equivalent to the **Model Diagnostics** tab in the Web UI. \n",
    "\n",
    "![Model Diagnostics Setup](images/model_diagnostics_setup.png)\n",
    "\n",
    "\n",
    "### 1. Run model diagnostincs on new data with H2OAI model\n",
    "\n",
    "The example below performs model diagnostics on the test dataset but any data with the same columns can be selected. "
   ]
  },
  {
   "cell_type": "code",
   "execution_count": 18,
   "metadata": {},
   "outputs": [],
   "source": [
    "test_diagnostics = h2oai.make_model_diagnostic_sync(experiment.key, test.key)"
   ]
  },
  {
   "cell_type": "code",
   "execution_count": 19,
   "metadata": {},
   "outputs": [
    {
     "data": {
      "text/plain": [
       "[{'scorer': 'ACCURACY', 'score': 0.8326666666666667},\n",
       " {'scorer': 'AUC', 'score': 0.7993359689677244},\n",
       " {'scorer': 'AUCPR', 'score': 0.5751530712812046},\n",
       " {'scorer': 'F05', 'score': 0.5935483870967742},\n",
       " {'scorer': 'F1', 'score': 0.5543521861211392},\n",
       " {'scorer': 'F2', 'score': 0.6414676188131002},\n",
       " {'scorer': 'GINI', 'score': 0.5986719379354488},\n",
       " {'scorer': 'LOGLOSS', 'score': 0.4057570819755395},\n",
       " {'scorer': 'MACROAUC', 'score': 0.7993359689677244},\n",
       " {'scorer': 'MCC', 'score': 0.4475578220935962}]"
      ]
     },
     "execution_count": 19,
     "metadata": {},
     "output_type": "execute_result"
    }
   ],
   "source": [
    "[{'scorer': x.score_f_name, 'score': x.score} for x in test_diagnostics.scores]"
   ]
  },
  {
   "cell_type": "markdown",
   "metadata": {},
   "source": [
    "Here is the same model diagnostics displayed in the UI: \n",
    "\n",
    "![Model Diagnostics Setup](images/model_diagnostics_complete.png)\n"
   ]
  },
  {
   "cell_type": "markdown",
   "metadata": {
    "collapsed": true
   },
   "source": [
    "## Run Model Interpretation\n",
    "\n",
    "Once we have completed an experiment, we can interpret our H2OAI model.  Model Interpretability is used to provide model transparency and explanations.  More information on Model Interpretability can be found here: http://docs.h2o.ai/driverless-ai/latest-stable/docs/userguide/interpreting.html.\n",
    "\n",
    "\n",
    "### 1. Run Model Interpretation on the Raw Data\n",
    "\n",
    "We can run the model interpretation in the Python client as shown below.  By setting the parameter, `use_raw_features` to True, we are interpreting the model using only the raw features in the data.  This will not use the engineered features we saw in our final model's features to explain the data.  "
   ]
  },
  {
   "cell_type": "code",
   "execution_count": 20,
   "metadata": {},
   "outputs": [],
   "source": [
    "mli_experiment = h2oai.run_interpretation_sync(dai_model_key = experiment.key,\n",
    "                                               dataset_key = train.key,\n",
    "                                               target_col = target,\n",
    "                                               use_raw_feature = True)"
   ]
  },
  {
   "cell_type": "markdown",
   "metadata": {},
   "source": [
    "This is equivalent to clicking **Interpet this Model on Original Features** in the UI once the experiment has completed.\n",
    "\n",
    "![Equivalent Steps in Driverless: View Results](images/experiment_complete_creditcard.png)"
   ]
  },
  {
   "cell_type": "markdown",
   "metadata": {},
   "source": [
    "Once our interpretation is finished, we can navigate to the MLI tab in the UI to see our interpreted model. \n",
    "\n",
    "![Equivalent Steps in Driverless: MLI List](images/mli_list.png)\n",
    "\n",
    "We can also see the list of interpretations using the Python Client:"
   ]
  },
  {
   "cell_type": "code",
   "execution_count": 21,
   "metadata": {},
   "outputs": [
    {
     "data": {
      "text/plain": [
       "['7a036464-024e-11ea-b1a2-0242ac110002',\n",
       " 'd6527604-fbe8-11e9-9dcd-0242ac110002']"
      ]
     },
     "execution_count": 21,
     "metadata": {},
     "output_type": "execute_result"
    }
   ],
   "source": [
    "# Get list of interpretations\n",
    "mli_list = list(map(lambda x: x.key, h2oai.list_interpretations(offset=0, limit=100)))\n",
    "mli_list"
   ]
  },
  {
   "cell_type": "markdown",
   "metadata": {
    "collapsed": true
   },
   "source": [
    "### 2. Run Model Interpretation on External Model Predictions\n",
    "\n",
    "Model Interpretation does not need to be run on a Driverless AI experiment.  We can also train an external model and run Model Interpretability on the predictions. In this next section, we will walk through the steps to interpret an external model.\n",
    "\n",
    "#### Train External Model\n",
    "\n",
    "We will begin by training a model with scikit-learn.  Our end goal is to use Driverless AI to interpret the predictions made by our scikit-learn model."
   ]
  },
  {
   "cell_type": "code",
   "execution_count": 50,
   "metadata": {},
   "outputs": [],
   "source": [
    "# Dataset must be located where Python client is running - you may need to download it locally\n",
    "train_pd = pd.read_csv(train_path)"
   ]
  },
  {
   "cell_type": "code",
   "execution_count": 51,
   "metadata": {},
   "outputs": [
    {
     "data": {
      "text/plain": [
       "GradientBoostingClassifier(criterion='friedman_mse', init=None,\n",
       "                           learning_rate=0.1, loss='deviance', max_depth=3,\n",
       "                           max_features=None, max_leaf_nodes=None,\n",
       "                           min_impurity_decrease=0.0, min_impurity_split=None,\n",
       "                           min_samples_leaf=1, min_samples_split=2,\n",
       "                           min_weight_fraction_leaf=0.0, n_estimators=100,\n",
       "                           n_iter_no_change=None, presort='auto',\n",
       "                           random_state=10, subsample=1.0, tol=0.0001,\n",
       "                           validation_fraction=0.1, verbose=0,\n",
       "                           warm_start=False)"
      ]
     },
     "execution_count": 51,
     "metadata": {},
     "output_type": "execute_result"
    }
   ],
   "source": [
    "from sklearn.ensemble import GradientBoostingClassifier\n",
    "\n",
    "predictors = list(set(train_pd.columns) - set([target]))\n",
    "\n",
    "gbm_model = GradientBoostingClassifier(random_state=10)\n",
    "gbm_model.fit(train_pd[predictors], train_pd[target])"
   ]
  },
  {
   "cell_type": "code",
   "execution_count": 52,
   "metadata": {},
   "outputs": [
    {
     "data": {
      "text/plain": [
       "array([[0.20060823, 0.79939177],\n",
       "       [0.57311744, 0.42688256],\n",
       "       [0.88034896, 0.11965104],\n",
       "       [0.86483594, 0.13516406],\n",
       "       [0.87349721, 0.12650279]])"
      ]
     },
     "execution_count": 52,
     "metadata": {},
     "output_type": "execute_result"
    }
   ],
   "source": [
    "predictions = gbm_model.predict_proba(train_pd[predictors])\n",
    "predictions[0:5]"
   ]
  },
  {
   "cell_type": "markdown",
   "metadata": {},
   "source": [
    "#### Interpret on External Predictions\n",
    "\n",
    "Now that we have the predictions from our scikit-learn GBM model, we can call Driverless AI's **`h2o_ai.run_interpretation_sync`** to create the interpretation screen."
   ]
  },
  {
   "cell_type": "code",
   "execution_count": 53,
   "metadata": {},
   "outputs": [],
   "source": [
    "train_gbm_path = \"./CreditCard-train-gbm_pred.csv\"\n",
    "predictions = pd.concat([train_pd, pd.DataFrame(predictions[:, 1], columns = [\"p1\"])], axis = 1)\n",
    "predictions.to_csv(path_or_buf=train_gbm_path, index = False)"
   ]
  },
  {
   "cell_type": "code",
   "execution_count": 54,
   "metadata": {},
   "outputs": [],
   "source": [
    "train_gbm_pred = h2oai.upload_dataset_sync(train_gbm_path)"
   ]
  },
  {
   "cell_type": "code",
   "execution_count": 55,
   "metadata": {},
   "outputs": [],
   "source": [
    "mli_external = h2oai.run_interpretation_sync(dai_model_key = \"\", # no experiment key\n",
    "                                             dataset_key = train_gbm_pred.key,\n",
    "                                             target_col = target,\n",
    "                                             prediction_col = \"p1\")"
   ]
  },
  {
   "cell_type": "markdown",
   "metadata": {},
   "source": [
    "We can also run Model Interpretability on an external model in the UI as shown below:\n",
    "\n",
    "![Equivalent Steps in Driverless: MLI External Model](images/mli_external.png)"
   ]
  },
  {
   "cell_type": "code",
   "execution_count": 56,
   "metadata": {},
   "outputs": [
    {
     "data": {
      "text/plain": [
       "['7a210df8-c463-11e9-b1a0-0242ac110002',\n",
       " '69b8281c-c462-11e9-b1a0-0242ac110002']"
      ]
     },
     "execution_count": 56,
     "metadata": {},
     "output_type": "execute_result"
    }
   ],
   "source": [
    "# Get list of interpretations\n",
    "mli_list = list(map(lambda x: x.key, h2oai.list_interpretations(offset=0, limit=100)))\n",
    "mli_list"
   ]
  },
  {
   "cell_type": "markdown",
   "metadata": {},
   "source": [
    "## Build Scoring Pipelines\n",
    "\n",
    "In our last section, we will build the scoring pipelines from our experiment.  There are two scoring pipeline options: \n",
    "\n",
    "* Python Scoring Pipeline: requires Python runtime\n",
    "* MOJO Scoring Pipeline: requires Java runtime\n",
    "\n",
    "Documentation on the scoring pipelines is provided here: http://docs.h2o.ai/driverless-ai/latest-stable/docs/userguide/python-mojo-pipelines.html.\n",
    "\n",
    "![Equivalent Steps in Driverless: View Results](images/experiment_complete_creditcard.png)\n",
    "\n",
    "The experiment screen shows two scoring pipeline buttons: **Download Python Scoring Pipeline** or **Build MOJO Scoring Pipeline**.  Driverless AI determines if any scoring pipeline should be automatically built based on the config.toml file.  In this example, we have run Driverless AI with the settings: \n",
    "\n",
    "```\n",
    "# Whether to create the Python scoring pipeline at the end of each experiment\n",
    "make_python_scoring_pipeline = true\n",
    "\n",
    "# Whether to create the MOJO scoring pipeline at the end of each experiment\n",
    "# Note: Not all transformers or main models are available for MOJO (e.g. no gblinear main model)\n",
    "make_mojo_scoring_pipeline = false\n",
    "```\n",
    "\n",
    "Therefore, only the Python Scoring Pipeline will be built by default.\n",
    "\n",
    "### 1. Build Python Scoring Pipeline\n",
    "\n",
    "The Python Scoring Pipeline has been built by default based on our config.toml settings.  We can get the path to the Python Scoring Pipeline in our experiment object."
   ]
  },
  {
   "cell_type": "code",
   "execution_count": 57,
   "metadata": {},
   "outputs": [
    {
     "data": {
      "text/plain": [
       "'h2oai_experiment_adbb4dca-c460-11e9-b1a0-0242ac110002/scoring_pipeline/scorer.zip'"
      ]
     },
     "execution_count": 57,
     "metadata": {},
     "output_type": "execute_result"
    }
   ],
   "source": [
    "experiment.scoring_pipeline_path"
   ]
  },
  {
   "cell_type": "markdown",
   "metadata": {},
   "source": [
    "We can also build the Python Scoring Pipeline - this is useful if the **`make_python_scoring_pipeline`** option was set to false."
   ]
  },
  {
   "cell_type": "code",
   "execution_count": 58,
   "metadata": {},
   "outputs": [],
   "source": [
    "python_scoring_pipeline = h2oai.build_scoring_pipeline_sync(experiment.key)"
   ]
  },
  {
   "cell_type": "code",
   "execution_count": 59,
   "metadata": {},
   "outputs": [
    {
     "data": {
      "text/plain": [
       "'h2oai_experiment_adbb4dca-c460-11e9-b1a0-0242ac110002/scoring_pipeline/scorer.zip'"
      ]
     },
     "execution_count": 59,
     "metadata": {},
     "output_type": "execute_result"
    }
   ],
   "source": [
    "python_scoring_pipeline.file_path"
   ]
  },
  {
   "cell_type": "markdown",
   "metadata": {},
   "source": [
    "Now we will download the scoring pipeline zip file."
   ]
  },
  {
   "cell_type": "code",
   "execution_count": 60,
   "metadata": {},
   "outputs": [
    {
     "data": {
      "text/plain": [
       "'./scorer.zip'"
      ]
     },
     "execution_count": 60,
     "metadata": {},
     "output_type": "execute_result"
    }
   ],
   "source": [
    "h2oai.download(python_scoring_pipeline.file_path, dest_dir=\".\")"
   ]
  },
  {
   "cell_type": "markdown",
   "metadata": {},
   "source": [
    "### 2. Build MOJO Scoring Pipeline\n",
    "\n",
    "The MOJO Scoring Pipeline has not been built by default because of our config.toml settings.  We can build the MOJO Scoring Pipeline using the Python client.  This is equivalent to selecting the **Build MOJO Scoring Pipeline** on the experiment screen."
   ]
  },
  {
   "cell_type": "code",
   "execution_count": 61,
   "metadata": {},
   "outputs": [],
   "source": [
    "mojo_scoring_pipeline = h2oai.build_mojo_pipeline_sync(experiment.key)"
   ]
  },
  {
   "cell_type": "code",
   "execution_count": 62,
   "metadata": {},
   "outputs": [
    {
     "data": {
      "text/plain": [
       "'h2oai_experiment_adbb4dca-c460-11e9-b1a0-0242ac110002/mojo_pipeline/mojo.zip'"
      ]
     },
     "execution_count": 62,
     "metadata": {},
     "output_type": "execute_result"
    }
   ],
   "source": [
    "mojo_scoring_pipeline.file_path"
   ]
  },
  {
   "cell_type": "markdown",
   "metadata": {},
   "source": [
    "Now we can download the scoring pipeline zip file."
   ]
  },
  {
   "cell_type": "code",
   "execution_count": 63,
   "metadata": {},
   "outputs": [
    {
     "data": {
      "text/plain": [
       "'./mojo.zip'"
      ]
     },
     "execution_count": 63,
     "metadata": {},
     "output_type": "execute_result"
    }
   ],
   "source": [
    "h2oai.download(mojo_scoring_pipeline.file_path, dest_dir=\".\")"
   ]
  },
  {
   "cell_type": "markdown",
   "metadata": {
    "collapsed": true
   },
   "source": [
    "Once the MOJO Scoring Pipeline is built, the **Build MOJO Scoring Pipeline** changes to **Download MOJO Scoring Pipeline**.\n",
    "\n",
    "\n",
    "\n",
    "![Equivalent Steps in Driverless: Download MOJO](images/download_mojo.png)"
   ]
  },
  {
   "cell_type": "code",
   "execution_count": null,
   "metadata": {
    "collapsed": true
   },
   "outputs": [],
   "source": []
  }
 ],
 "metadata": {
  "kernelspec": {
   "display_name": "Python 3",
   "language": "python",
   "name": "python3"
  },
  "language_info": {
   "codemirror_mode": {
    "name": "ipython",
    "version": 3
   },
   "file_extension": ".py",
   "mimetype": "text/x-python",
   "name": "python",
   "nbconvert_exporter": "python",
   "pygments_lexer": "ipython3",
   "version": "3.6.5"
  }
 },
 "nbformat": 4,
 "nbformat_minor": 2
}
